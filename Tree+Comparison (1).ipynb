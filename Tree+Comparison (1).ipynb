{
 "cells": [
  {
   "cell_type": "code",
   "execution_count": 261,
   "metadata": {
    "collapsed": true
   },
   "outputs": [],
   "source": [
    "import pandas as pd\n",
    "import numpy as np\n",
    "import matplotlib.pyplot as plt\n",
    "import datetime as dt\n"
   ]
  },
  {
   "cell_type": "markdown",
   "metadata": {},
   "source": [
    "Step 1. Read the .txt version of the current org tree into a Pandas DataFrame, retaining only rows with actual nodes in levels 1-6."
   ]
  },
  {
   "cell_type": "code",
   "execution_count": 262,
   "metadata": {},
   "outputs": [],
   "source": [
    "#read the relevant columns of new tree into a Pandas DataFrame object as strings\n",
    "\n",
    "df = pd.read_csv('http://baimanuals.berkeley.edu/treeReports/UCBDTREE.txt',sep=';',header= 4, usecols = [0,1], dtype = str)"
   ]
  },
  {
   "cell_type": "code",
   "execution_count": 263,
   "metadata": {},
   "outputs": [],
   "source": [
    "#specify the values I'm looking for for each column\n",
    "\n",
    "values = {'Node Name': ['A'], 'Level': ['1','2','3','4','5','6']}\n"
   ]
  },
  {
   "cell_type": "code",
   "execution_count": 264,
   "metadata": {
    "collapsed": true
   },
   "outputs": [],
   "source": [
    "#create a list of whether each row should be included ('true') or excluded ('false') based on whether any of the columns in the \n",
    "#row contain the specified values\n",
    "\n",
    "df_mask = df.isin(values).any(1)"
   ]
  },
  {
   "cell_type": "code",
   "execution_count": 313,
   "metadata": {},
   "outputs": [],
   "source": [
    "#create a table with only the rows from above that were coded 'true'\n",
    "\n",
    "the_table=df[df_mask]"
   ]
  },
  {
   "cell_type": "markdown",
   "metadata": {},
   "source": [
    "Step 2. Read the .txt version of the old org tree (preformatted and saved in the notebook during previous operations) into a Pandas DataFrame."
   ]
  },
  {
   "cell_type": "code",
   "execution_count": 312,
   "metadata": {},
   "outputs": [],
   "source": [
    "#read the relevant columns of old tree (preformatted and saved in the notebook) into a Pandas DataFrame object as strings\n",
    "\n",
    "old_table = pd.read_csv('old_tree.txt',sep=';',header= 0, usecols = [0,1], dtype = str)"
   ]
  },
  {
   "cell_type": "markdown",
   "metadata": {},
   "source": [
    "Step 3. Compare to see if there are any values in the new table that do not appear in the old table"
   ]
  },
  {
   "cell_type": "code",
   "execution_count": 280,
   "metadata": {},
   "outputs": [],
   "source": [
    "#create a variable containing all of the node names from the old table as an array\n",
    "\n",
    "old_node_names = old_table['Node Name'].values"
   ]
  },
  {
   "cell_type": "code",
   "execution_count": 281,
   "metadata": {},
   "outputs": [],
   "source": [
    "#specify that I'm looking for rows where the value in 'Node Name' matches something in the old array of node names\n",
    "\n",
    "values = {'Node Name': old_node_names}"
   ]
  },
  {
   "cell_type": "code",
   "execution_count": 285,
   "metadata": {},
   "outputs": [],
   "source": [
    "#create a list of whether each row should be included ('true') or excluded ('false') based on whether any of the columns in the \n",
    "#row contain the specified values\n",
    "new_table_mask_inverse = the_table.isin(values).any(1)"
   ]
  },
  {
   "cell_type": "code",
   "execution_count": 283,
   "metadata": {},
   "outputs": [],
   "source": [
    "#because I'm looking for the rows that do NOT meet the criteria above, invert the values of the booleans in the series that is \n",
    "#the result of the preious step\n",
    "\n",
    "new_table_mask = ~new_table_mask_inverse"
   ]
  },
  {
   "cell_type": "code",
   "execution_count": 284,
   "metadata": {},
   "outputs": [],
   "source": [
    "#apply the above filter to the new_table DataFrame and read out the results \n",
    "\n",
    "new_values = the_table[new_table_mask]\n",
    "new_values"
   ]
  },
  {
   "cell_type": "markdown",
   "metadata": {},
   "source": [
    "Step 4. Compare the tables to see if any values have been dropped from the new table"
   ]
  },
  {
   "cell_type": "code",
   "execution_count": 272,
   "metadata": {},
   "outputs": [],
   "source": [
    "#create an array of the node names from the current table\n",
    "new_node_names = the_table['Node Name'].values"
   ]
  },
  {
   "cell_type": "code",
   "execution_count": 273,
   "metadata": {
    "collapsed": true
   },
   "outputs": [],
   "source": [
    "#specify that I'm looking for rows where the value in Node Name matches something in the array of current node names\n",
    "values = {'Node Name': new_node_names}"
   ]
  },
  {
   "cell_type": "code",
   "execution_count": 277,
   "metadata": {},
   "outputs": [],
   "source": [
    "#create a list of whether each row should be included ('true') or excluded ('false') based on whether any of the columns in the \n",
    "#row contain the specified values\n",
    "old_table_mask_inverse = old_table.isin(values).any(1)"
   ]
  },
  {
   "cell_type": "code",
   "execution_count": 275,
   "metadata": {
    "collapsed": true
   },
   "outputs": [],
   "source": [
    "#because I'm looking for the rows that do NOT meet the criteria above, invert the values of the booleans in the series that is \n",
    "#the result of the preious step\n",
    "old_table_mask = ~old_table_mask_inverse"
   ]
  },
  {
   "cell_type": "code",
   "execution_count": 276,
   "metadata": {},
   "outputs": [
    {
     "data": {
      "text/html": [
       "<div>\n",
       "<style>\n",
       "    .dataframe thead tr:only-child th {\n",
       "        text-align: right;\n",
       "    }\n",
       "\n",
       "    .dataframe thead th {\n",
       "        text-align: left;\n",
       "    }\n",
       "\n",
       "    .dataframe tbody tr th {\n",
       "        vertical-align: top;\n",
       "    }\n",
       "</style>\n",
       "<table border=\"1\" class=\"dataframe\">\n",
       "  <thead>\n",
       "    <tr style=\"text-align: right;\">\n",
       "      <th></th>\n",
       "      <th>Node Name</th>\n",
       "      <th>Level</th>\n",
       "    </tr>\n",
       "  </thead>\n",
       "  <tbody>\n",
       "    <tr>\n",
       "      <th>2019</th>\n",
       "      <td>ZXZZY</td>\n",
       "      <td>4</td>\n",
       "    </tr>\n",
       "  </tbody>\n",
       "</table>\n",
       "</div>"
      ],
      "text/plain": [
       "     Node Name Level\n",
       "2019     ZXZZY     4"
      ]
     },
     "execution_count": 276,
     "metadata": {},
     "output_type": "execute_result"
    }
   ],
   "source": [
    "#apply the criteria above to the old org tree and read out the resulting values\n",
    "deprecated_values = old_table[old_table_mask]\n",
    "deprecated_values"
   ]
  },
  {
   "cell_type": "markdown",
   "metadata": {},
   "source": [
    "Step 5. Write the results of the comparisons into csv files unless they are empty"
   ]
  },
  {
   "cell_type": "code",
   "execution_count": 311,
   "metadata": {},
   "outputs": [],
   "source": [
    "#create today's date as a string for inclusion in filenames\n",
    "today = dt.datetime.today().strftime(\"%Y-%m-%d\")"
   ]
  },
  {
   "cell_type": "code",
   "execution_count": null,
   "metadata": {
    "collapsed": true
   },
   "outputs": [],
   "source": [
    "#if there are values in the new values dataframe, write them to a file\n",
    "if new_values.size > 0:\n",
    "    new_values.to_csv(path_or_buf = ('added as of ' + today + '.txt'), sep= ',')"
   ]
  },
  {
   "cell_type": "code",
   "execution_count": 310,
   "metadata": {},
   "outputs": [],
   "source": [
    "#if there are values in the deprecated values dataframe, write them to a file\n",
    "if deprecated_values.size > 0:\n",
    "    deprecated_values.to_csv(path_or_buf = ('deprecated as of ' + today + '.txt'), sep= ',')"
   ]
  },
  {
   "cell_type": "code",
   "execution_count": 260,
   "metadata": {
    "collapsed": true
   },
   "outputs": [],
   "source": [
    "#write the formatted current tree to the directory as the 'old tree' for use next time\n",
    "new_table.to_csv(path_or_buf = \"old_tree.txt\" , sep = ';', index = False, )"
   ]
  },
  {
   "cell_type": "markdown",
   "metadata": {},
   "source": [
    "Bloody well done!!!"
   ]
  }
 ],
 "metadata": {
  "kernelspec": {
   "display_name": "Python 3",
   "language": "python",
   "name": "python3"
  },
  "language_info": {
   "codemirror_mode": {
    "name": "ipython",
    "version": 3
   },
   "file_extension": ".py",
   "mimetype": "text/x-python",
   "name": "python",
   "nbconvert_exporter": "python",
   "pygments_lexer": "ipython3",
   "version": "3.6.3"
  }
 },
 "nbformat": 4,
 "nbformat_minor": 2
}
